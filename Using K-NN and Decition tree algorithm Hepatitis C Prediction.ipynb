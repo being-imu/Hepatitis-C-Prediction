{
  "cells": [
    {
      "cell_type": "markdown",
      "metadata": {
        "id": "view-in-github",
        "colab_type": "text"
      },
      "source": [
        "<a href=\"https://colab.research.google.com/github/being-imu/Hepatitis-C-Prediction/blob/main/Using%20K-NN%20and%20Decition%20tree%20algorithm%20Hepatitis%20C%20Prediction.ipynb\" target=\"_parent\"><img src=\"https://colab.research.google.com/assets/colab-badge.svg\" alt=\"Open In Colab\"/></a>"
      ]
    },
    {
      "cell_type": "markdown",
      "metadata": {
        "id": "U9EAxd9I2oWk"
      },
      "source": [
        "- To appreciate the role of K-NN and Decision Tree algorithms in classification\n",
        "- To implement both K-NN and Decision Tree on the same datset and reflect upon the difference in their performance\n"
      ],
      "id": "U9EAxd9I2oWk"
    },
    {
      "cell_type": "markdown",
      "metadata": {
        "id": "D-w2mbf72oWk"
      },
      "source": [
        "### Import useful libraries\n"
      ],
      "id": "D-w2mbf72oWk"
    },
    {
      "cell_type": "code",
      "execution_count": null,
      "metadata": {
        "id": "qGo9gmcV2oWk"
      },
      "outputs": [],
      "source": [
        "import numpy as np\n",
        "import matplotlib.pyplot as plt\n",
        "import pandas as pd\n",
        "import numpy as np\n",
        "from sklearn import preprocessing\n",
        "from scipy import stats\n",
        "%matplotlib inline"
      ],
      "id": "qGo9gmcV2oWk"
    },
    {
      "cell_type": "markdown",
      "metadata": {
        "id": "qskDmjFq2oWl"
      },
      "source": [
        "### Load Data From CSV File  (hcvdat0.csv)"
      ],
      "id": "qskDmjFq2oWl"
    },
    {
      "cell_type": "code",
      "execution_count": null,
      "metadata": {
        "id": "n5DwEJBW2oWl",
        "colab": {
          "base_uri": "https://localhost:8080/"
        },
        "outputId": "17a56076-0788-4033-c898-23d47736d078"
      },
      "outputs": [
        {
          "output_type": "stream",
          "name": "stdout",
          "text": [
            "Drive already mounted at /content/drive; to attempt to forcibly remount, call drive.mount(\"/content/drive\", force_remount=True).\n",
            "/content/drive/My Drive/Colab\n"
          ]
        }
      ],
      "source": [
        "from google.colab import drive\n",
        "drive.mount('/content/drive')\n",
        "%cd \"/content/drive/My Drive/Colab\""
      ],
      "id": "n5DwEJBW2oWl"
    },
    {
      "cell_type": "code",
      "source": [
        "ls\n"
      ],
      "metadata": {
        "colab": {
          "base_uri": "https://localhost:8080/"
        },
        "id": "sL3ZVAd86-Kz",
        "outputId": "71a71203-fb6d-42bd-9971-694ae2a89e9c"
      },
      "id": "sL3ZVAd86-Kz",
      "execution_count": null,
      "outputs": [
        {
          "output_type": "stream",
          "name": "stdout",
          "text": [
            " hcvdat.csv   total_cases.csv  'Wetland Data.csv'   World_GDP.csv\n"
          ]
        }
      ]
    },
    {
      "cell_type": "code",
      "source": [
        "data = pd.read_csv('hcvdat.csv')"
      ],
      "metadata": {
        "id": "5o8FQyj07GTa"
      },
      "id": "5o8FQyj07GTa",
      "execution_count": null,
      "outputs": []
    },
    {
      "cell_type": "markdown",
      "metadata": {
        "id": "a0a-8CUr2oWl"
      },
      "source": [
        "### Drop all the rows having missing values"
      ],
      "id": "a0a-8CUr2oWl"
    },
    {
      "cell_type": "code",
      "execution_count": null,
      "metadata": {
        "id": "ocqTzkkz2oWm",
        "colab": {
          "base_uri": "https://localhost:8080/"
        },
        "outputId": "b9d82b14-e67c-453a-aaac-2175ca25f576"
      },
      "outputs": [
        {
          "output_type": "stream",
          "name": "stdout",
          "text": [
            "     Unnamed: 0       Category  Age Sex   ALB    ALP   ALT    AST   BIL  \\\n",
            "0             1  0=Blood Donor   32   m  38.5   52.5   7.7   22.1   7.5   \n",
            "1             2  0=Blood Donor   32   m  38.5   70.3  18.0   24.7   3.9   \n",
            "2             3  0=Blood Donor   32   m  46.9   74.7  36.2   52.6   6.1   \n",
            "3             4  0=Blood Donor   32   m  43.2   52.0  30.6   22.6  18.9   \n",
            "4             5  0=Blood Donor   32   m  39.2   74.1  32.6   24.8   9.6   \n",
            "..          ...            ...  ...  ..   ...    ...   ...    ...   ...   \n",
            "608         609    3=Cirrhosis   58   f  34.0   46.4  15.0  150.0   8.0   \n",
            "609         610    3=Cirrhosis   59   f  39.0   51.3  19.6  285.8  40.0   \n",
            "610         611    3=Cirrhosis   62   f  32.0  416.6   5.9  110.3  50.0   \n",
            "611         612    3=Cirrhosis   64   f  24.0  102.8   2.9   44.4  20.0   \n",
            "612         613    3=Cirrhosis   64   f  29.0   87.3   3.5   99.0  48.0   \n",
            "\n",
            "       CHE  CHOL   CREA    GGT  PROT  \n",
            "0     6.93  3.23  106.0   12.1  69.0  \n",
            "1    11.17  4.80   74.0   15.6  76.5  \n",
            "2     8.84  5.20   86.0   33.2  79.3  \n",
            "3     7.33  4.74   80.0   33.8  75.7  \n",
            "4     9.15  4.32   76.0   29.9  68.7  \n",
            "..     ...   ...    ...    ...   ...  \n",
            "608   6.26  3.98   56.0   49.7  80.6  \n",
            "609   5.77  4.51  136.1  101.1  70.5  \n",
            "610   5.57  6.30   55.7  650.9  68.5  \n",
            "611   1.54  3.02   63.0   35.9  71.3  \n",
            "612   1.66  3.63   66.7   64.2  82.0  \n",
            "\n",
            "[589 rows x 14 columns]\n"
          ]
        }
      ],
      "source": [
        "new_data = data.dropna()\n",
        "print(new_data)"
      ],
      "id": "ocqTzkkz2oWm"
    },
    {
      "cell_type": "markdown",
      "metadata": {
        "id": "gB17EqVZ2oWm"
      },
      "source": [
        "### Select ALP, ALT, BIL, CHOL as inputs. Ignore all other input variables for now. You should have an array X containing all these input variables of interest."
      ],
      "id": "gB17EqVZ2oWm"
    },
    {
      "cell_type": "code",
      "execution_count": null,
      "metadata": {
        "id": "Y-WNqNAP2oWm",
        "colab": {
          "base_uri": "https://localhost:8080/",
          "height": 424
        },
        "outputId": "afc7da54-3288-45e5-81c7-d2f4db43c89b"
      },
      "outputs": [
        {
          "output_type": "execute_result",
          "data": {
            "text/plain": [
              "       ALP   ALT   BIL  CHOL\n",
              "0     52.5   7.7   7.5  3.23\n",
              "1     70.3  18.0   3.9  4.80\n",
              "2     74.7  36.2   6.1  5.20\n",
              "3     52.0  30.6  18.9  4.74\n",
              "4     74.1  32.6   9.6  4.32\n",
              "..     ...   ...   ...   ...\n",
              "608   46.4  15.0   8.0  3.98\n",
              "609   51.3  19.6  40.0  4.51\n",
              "610  416.6   5.9  50.0  6.30\n",
              "611  102.8   2.9  20.0  3.02\n",
              "612   87.3   3.5  48.0  3.63\n",
              "\n",
              "[589 rows x 4 columns]"
            ],
            "text/html": [
              "\n",
              "  <div id=\"df-d4ee57ce-2570-482c-a153-9520f234547f\">\n",
              "    <div class=\"colab-df-container\">\n",
              "      <div>\n",
              "<style scoped>\n",
              "    .dataframe tbody tr th:only-of-type {\n",
              "        vertical-align: middle;\n",
              "    }\n",
              "\n",
              "    .dataframe tbody tr th {\n",
              "        vertical-align: top;\n",
              "    }\n",
              "\n",
              "    .dataframe thead th {\n",
              "        text-align: right;\n",
              "    }\n",
              "</style>\n",
              "<table border=\"1\" class=\"dataframe\">\n",
              "  <thead>\n",
              "    <tr style=\"text-align: right;\">\n",
              "      <th></th>\n",
              "      <th>ALP</th>\n",
              "      <th>ALT</th>\n",
              "      <th>BIL</th>\n",
              "      <th>CHOL</th>\n",
              "    </tr>\n",
              "  </thead>\n",
              "  <tbody>\n",
              "    <tr>\n",
              "      <th>0</th>\n",
              "      <td>52.5</td>\n",
              "      <td>7.7</td>\n",
              "      <td>7.5</td>\n",
              "      <td>3.23</td>\n",
              "    </tr>\n",
              "    <tr>\n",
              "      <th>1</th>\n",
              "      <td>70.3</td>\n",
              "      <td>18.0</td>\n",
              "      <td>3.9</td>\n",
              "      <td>4.80</td>\n",
              "    </tr>\n",
              "    <tr>\n",
              "      <th>2</th>\n",
              "      <td>74.7</td>\n",
              "      <td>36.2</td>\n",
              "      <td>6.1</td>\n",
              "      <td>5.20</td>\n",
              "    </tr>\n",
              "    <tr>\n",
              "      <th>3</th>\n",
              "      <td>52.0</td>\n",
              "      <td>30.6</td>\n",
              "      <td>18.9</td>\n",
              "      <td>4.74</td>\n",
              "    </tr>\n",
              "    <tr>\n",
              "      <th>4</th>\n",
              "      <td>74.1</td>\n",
              "      <td>32.6</td>\n",
              "      <td>9.6</td>\n",
              "      <td>4.32</td>\n",
              "    </tr>\n",
              "    <tr>\n",
              "      <th>...</th>\n",
              "      <td>...</td>\n",
              "      <td>...</td>\n",
              "      <td>...</td>\n",
              "      <td>...</td>\n",
              "    </tr>\n",
              "    <tr>\n",
              "      <th>608</th>\n",
              "      <td>46.4</td>\n",
              "      <td>15.0</td>\n",
              "      <td>8.0</td>\n",
              "      <td>3.98</td>\n",
              "    </tr>\n",
              "    <tr>\n",
              "      <th>609</th>\n",
              "      <td>51.3</td>\n",
              "      <td>19.6</td>\n",
              "      <td>40.0</td>\n",
              "      <td>4.51</td>\n",
              "    </tr>\n",
              "    <tr>\n",
              "      <th>610</th>\n",
              "      <td>416.6</td>\n",
              "      <td>5.9</td>\n",
              "      <td>50.0</td>\n",
              "      <td>6.30</td>\n",
              "    </tr>\n",
              "    <tr>\n",
              "      <th>611</th>\n",
              "      <td>102.8</td>\n",
              "      <td>2.9</td>\n",
              "      <td>20.0</td>\n",
              "      <td>3.02</td>\n",
              "    </tr>\n",
              "    <tr>\n",
              "      <th>612</th>\n",
              "      <td>87.3</td>\n",
              "      <td>3.5</td>\n",
              "      <td>48.0</td>\n",
              "      <td>3.63</td>\n",
              "    </tr>\n",
              "  </tbody>\n",
              "</table>\n",
              "<p>589 rows × 4 columns</p>\n",
              "</div>\n",
              "      <button class=\"colab-df-convert\" onclick=\"convertToInteractive('df-d4ee57ce-2570-482c-a153-9520f234547f')\"\n",
              "              title=\"Convert this dataframe to an interactive table.\"\n",
              "              style=\"display:none;\">\n",
              "        \n",
              "  <svg xmlns=\"http://www.w3.org/2000/svg\" height=\"24px\"viewBox=\"0 0 24 24\"\n",
              "       width=\"24px\">\n",
              "    <path d=\"M0 0h24v24H0V0z\" fill=\"none\"/>\n",
              "    <path d=\"M18.56 5.44l.94 2.06.94-2.06 2.06-.94-2.06-.94-.94-2.06-.94 2.06-2.06.94zm-11 1L8.5 8.5l.94-2.06 2.06-.94-2.06-.94L8.5 2.5l-.94 2.06-2.06.94zm10 10l.94 2.06.94-2.06 2.06-.94-2.06-.94-.94-2.06-.94 2.06-2.06.94z\"/><path d=\"M17.41 7.96l-1.37-1.37c-.4-.4-.92-.59-1.43-.59-.52 0-1.04.2-1.43.59L10.3 9.45l-7.72 7.72c-.78.78-.78 2.05 0 2.83L4 21.41c.39.39.9.59 1.41.59.51 0 1.02-.2 1.41-.59l7.78-7.78 2.81-2.81c.8-.78.8-2.07 0-2.86zM5.41 20L4 18.59l7.72-7.72 1.47 1.35L5.41 20z\"/>\n",
              "  </svg>\n",
              "      </button>\n",
              "      \n",
              "  <style>\n",
              "    .colab-df-container {\n",
              "      display:flex;\n",
              "      flex-wrap:wrap;\n",
              "      gap: 12px;\n",
              "    }\n",
              "\n",
              "    .colab-df-convert {\n",
              "      background-color: #E8F0FE;\n",
              "      border: none;\n",
              "      border-radius: 50%;\n",
              "      cursor: pointer;\n",
              "      display: none;\n",
              "      fill: #1967D2;\n",
              "      height: 32px;\n",
              "      padding: 0 0 0 0;\n",
              "      width: 32px;\n",
              "    }\n",
              "\n",
              "    .colab-df-convert:hover {\n",
              "      background-color: #E2EBFA;\n",
              "      box-shadow: 0px 1px 2px rgba(60, 64, 67, 0.3), 0px 1px 3px 1px rgba(60, 64, 67, 0.15);\n",
              "      fill: #174EA6;\n",
              "    }\n",
              "\n",
              "    [theme=dark] .colab-df-convert {\n",
              "      background-color: #3B4455;\n",
              "      fill: #D2E3FC;\n",
              "    }\n",
              "\n",
              "    [theme=dark] .colab-df-convert:hover {\n",
              "      background-color: #434B5C;\n",
              "      box-shadow: 0px 1px 3px 1px rgba(0, 0, 0, 0.15);\n",
              "      filter: drop-shadow(0px 1px 2px rgba(0, 0, 0, 0.3));\n",
              "      fill: #FFFFFF;\n",
              "    }\n",
              "  </style>\n",
              "\n",
              "      <script>\n",
              "        const buttonEl =\n",
              "          document.querySelector('#df-d4ee57ce-2570-482c-a153-9520f234547f button.colab-df-convert');\n",
              "        buttonEl.style.display =\n",
              "          google.colab.kernel.accessAllowed ? 'block' : 'none';\n",
              "\n",
              "        async function convertToInteractive(key) {\n",
              "          const element = document.querySelector('#df-d4ee57ce-2570-482c-a153-9520f234547f');\n",
              "          const dataTable =\n",
              "            await google.colab.kernel.invokeFunction('convertToInteractive',\n",
              "                                                     [key], {});\n",
              "          if (!dataTable) return;\n",
              "\n",
              "          const docLinkHtml = 'Like what you see? Visit the ' +\n",
              "            '<a target=\"_blank\" href=https://colab.research.google.com/notebooks/data_table.ipynb>data table notebook</a>'\n",
              "            + ' to learn more about interactive tables.';\n",
              "          element.innerHTML = '';\n",
              "          dataTable['output_type'] = 'display_data';\n",
              "          await google.colab.output.renderOutput(dataTable, element);\n",
              "          const docLink = document.createElement('div');\n",
              "          docLink.innerHTML = docLinkHtml;\n",
              "          element.appendChild(docLink);\n",
              "        }\n",
              "      </script>\n",
              "    </div>\n",
              "  </div>\n",
              "  "
            ]
          },
          "metadata": {},
          "execution_count": 46
        }
      ],
      "source": [
        "X = new_data[['ALP','ALT','BIL','CHOL']]\n",
        "y = new_data['Category']\n",
        "\n",
        "X"
      ],
      "id": "Y-WNqNAP2oWm"
    },
    {
      "cell_type": "markdown",
      "metadata": {
        "id": "bL-j1nWv2oWm"
      },
      "source": [
        "### Perform z-score (standardisation) for all the elements of the input array, X."
      ],
      "id": "bL-j1nWv2oWm"
    },
    {
      "cell_type": "code",
      "execution_count": null,
      "metadata": {
        "id": "-1xBa-Fn2oWm",
        "colab": {
          "base_uri": "https://localhost:8080/",
          "height": 424
        },
        "outputId": "b6e6f011-96aa-48c1-eea2-63031bb0f78a"
      },
      "outputs": [
        {
          "output_type": "execute_result",
          "data": {
            "text/plain": [
              "           ALP       ALT       BIL      CHOL\n",
              "0    -0.603230 -0.905494 -0.202289 -1.916091\n",
              "1     0.084054 -0.411380 -0.409283 -0.524241\n",
              "2     0.253944  0.461714 -0.282787 -0.169629\n",
              "3    -0.622536  0.193070  0.453193 -0.577433\n",
              "4     0.230777  0.289014 -0.081542 -0.949775\n",
              "..         ...       ...       ...       ...\n",
              "608  -0.838760 -0.555297 -0.173540 -1.251194\n",
              "609  -0.649564 -0.334624  1.666409 -0.781334\n",
              "610  13.455196 -0.991844  2.241393  0.805552\n",
              "611   1.338926 -1.135760  0.516441 -2.102261\n",
              "612   0.740448 -1.106977  2.126396 -1.561479\n",
              "\n",
              "[589 rows x 4 columns]"
            ],
            "text/html": [
              "\n",
              "  <div id=\"df-9d024b4b-d69e-426a-ac2e-167143a7fd5b\">\n",
              "    <div class=\"colab-df-container\">\n",
              "      <div>\n",
              "<style scoped>\n",
              "    .dataframe tbody tr th:only-of-type {\n",
              "        vertical-align: middle;\n",
              "    }\n",
              "\n",
              "    .dataframe tbody tr th {\n",
              "        vertical-align: top;\n",
              "    }\n",
              "\n",
              "    .dataframe thead th {\n",
              "        text-align: right;\n",
              "    }\n",
              "</style>\n",
              "<table border=\"1\" class=\"dataframe\">\n",
              "  <thead>\n",
              "    <tr style=\"text-align: right;\">\n",
              "      <th></th>\n",
              "      <th>ALP</th>\n",
              "      <th>ALT</th>\n",
              "      <th>BIL</th>\n",
              "      <th>CHOL</th>\n",
              "    </tr>\n",
              "  </thead>\n",
              "  <tbody>\n",
              "    <tr>\n",
              "      <th>0</th>\n",
              "      <td>-0.603230</td>\n",
              "      <td>-0.905494</td>\n",
              "      <td>-0.202289</td>\n",
              "      <td>-1.916091</td>\n",
              "    </tr>\n",
              "    <tr>\n",
              "      <th>1</th>\n",
              "      <td>0.084054</td>\n",
              "      <td>-0.411380</td>\n",
              "      <td>-0.409283</td>\n",
              "      <td>-0.524241</td>\n",
              "    </tr>\n",
              "    <tr>\n",
              "      <th>2</th>\n",
              "      <td>0.253944</td>\n",
              "      <td>0.461714</td>\n",
              "      <td>-0.282787</td>\n",
              "      <td>-0.169629</td>\n",
              "    </tr>\n",
              "    <tr>\n",
              "      <th>3</th>\n",
              "      <td>-0.622536</td>\n",
              "      <td>0.193070</td>\n",
              "      <td>0.453193</td>\n",
              "      <td>-0.577433</td>\n",
              "    </tr>\n",
              "    <tr>\n",
              "      <th>4</th>\n",
              "      <td>0.230777</td>\n",
              "      <td>0.289014</td>\n",
              "      <td>-0.081542</td>\n",
              "      <td>-0.949775</td>\n",
              "    </tr>\n",
              "    <tr>\n",
              "      <th>...</th>\n",
              "      <td>...</td>\n",
              "      <td>...</td>\n",
              "      <td>...</td>\n",
              "      <td>...</td>\n",
              "    </tr>\n",
              "    <tr>\n",
              "      <th>608</th>\n",
              "      <td>-0.838760</td>\n",
              "      <td>-0.555297</td>\n",
              "      <td>-0.173540</td>\n",
              "      <td>-1.251194</td>\n",
              "    </tr>\n",
              "    <tr>\n",
              "      <th>609</th>\n",
              "      <td>-0.649564</td>\n",
              "      <td>-0.334624</td>\n",
              "      <td>1.666409</td>\n",
              "      <td>-0.781334</td>\n",
              "    </tr>\n",
              "    <tr>\n",
              "      <th>610</th>\n",
              "      <td>13.455196</td>\n",
              "      <td>-0.991844</td>\n",
              "      <td>2.241393</td>\n",
              "      <td>0.805552</td>\n",
              "    </tr>\n",
              "    <tr>\n",
              "      <th>611</th>\n",
              "      <td>1.338926</td>\n",
              "      <td>-1.135760</td>\n",
              "      <td>0.516441</td>\n",
              "      <td>-2.102261</td>\n",
              "    </tr>\n",
              "    <tr>\n",
              "      <th>612</th>\n",
              "      <td>0.740448</td>\n",
              "      <td>-1.106977</td>\n",
              "      <td>2.126396</td>\n",
              "      <td>-1.561479</td>\n",
              "    </tr>\n",
              "  </tbody>\n",
              "</table>\n",
              "<p>589 rows × 4 columns</p>\n",
              "</div>\n",
              "      <button class=\"colab-df-convert\" onclick=\"convertToInteractive('df-9d024b4b-d69e-426a-ac2e-167143a7fd5b')\"\n",
              "              title=\"Convert this dataframe to an interactive table.\"\n",
              "              style=\"display:none;\">\n",
              "        \n",
              "  <svg xmlns=\"http://www.w3.org/2000/svg\" height=\"24px\"viewBox=\"0 0 24 24\"\n",
              "       width=\"24px\">\n",
              "    <path d=\"M0 0h24v24H0V0z\" fill=\"none\"/>\n",
              "    <path d=\"M18.56 5.44l.94 2.06.94-2.06 2.06-.94-2.06-.94-.94-2.06-.94 2.06-2.06.94zm-11 1L8.5 8.5l.94-2.06 2.06-.94-2.06-.94L8.5 2.5l-.94 2.06-2.06.94zm10 10l.94 2.06.94-2.06 2.06-.94-2.06-.94-.94-2.06-.94 2.06-2.06.94z\"/><path d=\"M17.41 7.96l-1.37-1.37c-.4-.4-.92-.59-1.43-.59-.52 0-1.04.2-1.43.59L10.3 9.45l-7.72 7.72c-.78.78-.78 2.05 0 2.83L4 21.41c.39.39.9.59 1.41.59.51 0 1.02-.2 1.41-.59l7.78-7.78 2.81-2.81c.8-.78.8-2.07 0-2.86zM5.41 20L4 18.59l7.72-7.72 1.47 1.35L5.41 20z\"/>\n",
              "  </svg>\n",
              "      </button>\n",
              "      \n",
              "  <style>\n",
              "    .colab-df-container {\n",
              "      display:flex;\n",
              "      flex-wrap:wrap;\n",
              "      gap: 12px;\n",
              "    }\n",
              "\n",
              "    .colab-df-convert {\n",
              "      background-color: #E8F0FE;\n",
              "      border: none;\n",
              "      border-radius: 50%;\n",
              "      cursor: pointer;\n",
              "      display: none;\n",
              "      fill: #1967D2;\n",
              "      height: 32px;\n",
              "      padding: 0 0 0 0;\n",
              "      width: 32px;\n",
              "    }\n",
              "\n",
              "    .colab-df-convert:hover {\n",
              "      background-color: #E2EBFA;\n",
              "      box-shadow: 0px 1px 2px rgba(60, 64, 67, 0.3), 0px 1px 3px 1px rgba(60, 64, 67, 0.15);\n",
              "      fill: #174EA6;\n",
              "    }\n",
              "\n",
              "    [theme=dark] .colab-df-convert {\n",
              "      background-color: #3B4455;\n",
              "      fill: #D2E3FC;\n",
              "    }\n",
              "\n",
              "    [theme=dark] .colab-df-convert:hover {\n",
              "      background-color: #434B5C;\n",
              "      box-shadow: 0px 1px 3px 1px rgba(0, 0, 0, 0.15);\n",
              "      filter: drop-shadow(0px 1px 2px rgba(0, 0, 0, 0.3));\n",
              "      fill: #FFFFFF;\n",
              "    }\n",
              "  </style>\n",
              "\n",
              "      <script>\n",
              "        const buttonEl =\n",
              "          document.querySelector('#df-9d024b4b-d69e-426a-ac2e-167143a7fd5b button.colab-df-convert');\n",
              "        buttonEl.style.display =\n",
              "          google.colab.kernel.accessAllowed ? 'block' : 'none';\n",
              "\n",
              "        async function convertToInteractive(key) {\n",
              "          const element = document.querySelector('#df-9d024b4b-d69e-426a-ac2e-167143a7fd5b');\n",
              "          const dataTable =\n",
              "            await google.colab.kernel.invokeFunction('convertToInteractive',\n",
              "                                                     [key], {});\n",
              "          if (!dataTable) return;\n",
              "\n",
              "          const docLinkHtml = 'Like what you see? Visit the ' +\n",
              "            '<a target=\"_blank\" href=https://colab.research.google.com/notebooks/data_table.ipynb>data table notebook</a>'\n",
              "            + ' to learn more about interactive tables.';\n",
              "          element.innerHTML = '';\n",
              "          dataTable['output_type'] = 'display_data';\n",
              "          await google.colab.output.renderOutput(dataTable, element);\n",
              "          const docLink = document.createElement('div');\n",
              "          docLink.innerHTML = docLinkHtml;\n",
              "          element.appendChild(docLink);\n",
              "        }\n",
              "      </script>\n",
              "    </div>\n",
              "  </div>\n",
              "  "
            ]
          },
          "metadata": {},
          "execution_count": 47
        }
      ],
      "source": [
        "z_score_x = stats.zscore(X)\n",
        "z_score_x"
      ],
      "id": "-1xBa-Fn2oWm"
    },
    {
      "cell_type": "code",
      "source": [],
      "metadata": {
        "id": "kNe3zFZL_CQr"
      },
      "id": "kNe3zFZL_CQr",
      "execution_count": null,
      "outputs": []
    },
    {
      "cell_type": "markdown",
      "metadata": {
        "id": "5hdQ7xI52oWm"
      },
      "source": [
        "### Inspect the first 5 rows of the output variable (class) of interest, which is Category."
      ],
      "id": "5hdQ7xI52oWm"
    },
    {
      "cell_type": "code",
      "execution_count": null,
      "metadata": {
        "id": "tMhQmBnC2oWm",
        "colab": {
          "base_uri": "https://localhost:8080/",
          "height": 424
        },
        "outputId": "ddfd7ad4-551f-46ca-eba8-e13334b1cc22"
      },
      "outputs": [
        {
          "output_type": "execute_result",
          "data": {
            "text/plain": [
              "           ALP       ALT       BIL      CHOL\n",
              "0    -0.603230 -0.905494 -0.202289 -1.916091\n",
              "1     0.084054 -0.411380 -0.409283 -0.524241\n",
              "2     0.253944  0.461714 -0.282787 -0.169629\n",
              "3    -0.622536  0.193070  0.453193 -0.577433\n",
              "4     0.230777  0.289014 -0.081542 -0.949775\n",
              "..         ...       ...       ...       ...\n",
              "608  -0.838760 -0.555297 -0.173540 -1.251194\n",
              "609  -0.649564 -0.334624  1.666409 -0.781334\n",
              "610  13.455196 -0.991844  2.241393  0.805552\n",
              "611   1.338926 -1.135760  0.516441 -2.102261\n",
              "612   0.740448 -1.106977  2.126396 -1.561479\n",
              "\n",
              "[589 rows x 4 columns]"
            ],
            "text/html": [
              "\n",
              "  <div id=\"df-f0093c08-0e61-4fce-95aa-6923e0747c3f\">\n",
              "    <div class=\"colab-df-container\">\n",
              "      <div>\n",
              "<style scoped>\n",
              "    .dataframe tbody tr th:only-of-type {\n",
              "        vertical-align: middle;\n",
              "    }\n",
              "\n",
              "    .dataframe tbody tr th {\n",
              "        vertical-align: top;\n",
              "    }\n",
              "\n",
              "    .dataframe thead th {\n",
              "        text-align: right;\n",
              "    }\n",
              "</style>\n",
              "<table border=\"1\" class=\"dataframe\">\n",
              "  <thead>\n",
              "    <tr style=\"text-align: right;\">\n",
              "      <th></th>\n",
              "      <th>ALP</th>\n",
              "      <th>ALT</th>\n",
              "      <th>BIL</th>\n",
              "      <th>CHOL</th>\n",
              "    </tr>\n",
              "  </thead>\n",
              "  <tbody>\n",
              "    <tr>\n",
              "      <th>0</th>\n",
              "      <td>-0.603230</td>\n",
              "      <td>-0.905494</td>\n",
              "      <td>-0.202289</td>\n",
              "      <td>-1.916091</td>\n",
              "    </tr>\n",
              "    <tr>\n",
              "      <th>1</th>\n",
              "      <td>0.084054</td>\n",
              "      <td>-0.411380</td>\n",
              "      <td>-0.409283</td>\n",
              "      <td>-0.524241</td>\n",
              "    </tr>\n",
              "    <tr>\n",
              "      <th>2</th>\n",
              "      <td>0.253944</td>\n",
              "      <td>0.461714</td>\n",
              "      <td>-0.282787</td>\n",
              "      <td>-0.169629</td>\n",
              "    </tr>\n",
              "    <tr>\n",
              "      <th>3</th>\n",
              "      <td>-0.622536</td>\n",
              "      <td>0.193070</td>\n",
              "      <td>0.453193</td>\n",
              "      <td>-0.577433</td>\n",
              "    </tr>\n",
              "    <tr>\n",
              "      <th>4</th>\n",
              "      <td>0.230777</td>\n",
              "      <td>0.289014</td>\n",
              "      <td>-0.081542</td>\n",
              "      <td>-0.949775</td>\n",
              "    </tr>\n",
              "    <tr>\n",
              "      <th>...</th>\n",
              "      <td>...</td>\n",
              "      <td>...</td>\n",
              "      <td>...</td>\n",
              "      <td>...</td>\n",
              "    </tr>\n",
              "    <tr>\n",
              "      <th>608</th>\n",
              "      <td>-0.838760</td>\n",
              "      <td>-0.555297</td>\n",
              "      <td>-0.173540</td>\n",
              "      <td>-1.251194</td>\n",
              "    </tr>\n",
              "    <tr>\n",
              "      <th>609</th>\n",
              "      <td>-0.649564</td>\n",
              "      <td>-0.334624</td>\n",
              "      <td>1.666409</td>\n",
              "      <td>-0.781334</td>\n",
              "    </tr>\n",
              "    <tr>\n",
              "      <th>610</th>\n",
              "      <td>13.455196</td>\n",
              "      <td>-0.991844</td>\n",
              "      <td>2.241393</td>\n",
              "      <td>0.805552</td>\n",
              "    </tr>\n",
              "    <tr>\n",
              "      <th>611</th>\n",
              "      <td>1.338926</td>\n",
              "      <td>-1.135760</td>\n",
              "      <td>0.516441</td>\n",
              "      <td>-2.102261</td>\n",
              "    </tr>\n",
              "    <tr>\n",
              "      <th>612</th>\n",
              "      <td>0.740448</td>\n",
              "      <td>-1.106977</td>\n",
              "      <td>2.126396</td>\n",
              "      <td>-1.561479</td>\n",
              "    </tr>\n",
              "  </tbody>\n",
              "</table>\n",
              "<p>589 rows × 4 columns</p>\n",
              "</div>\n",
              "      <button class=\"colab-df-convert\" onclick=\"convertToInteractive('df-f0093c08-0e61-4fce-95aa-6923e0747c3f')\"\n",
              "              title=\"Convert this dataframe to an interactive table.\"\n",
              "              style=\"display:none;\">\n",
              "        \n",
              "  <svg xmlns=\"http://www.w3.org/2000/svg\" height=\"24px\"viewBox=\"0 0 24 24\"\n",
              "       width=\"24px\">\n",
              "    <path d=\"M0 0h24v24H0V0z\" fill=\"none\"/>\n",
              "    <path d=\"M18.56 5.44l.94 2.06.94-2.06 2.06-.94-2.06-.94-.94-2.06-.94 2.06-2.06.94zm-11 1L8.5 8.5l.94-2.06 2.06-.94-2.06-.94L8.5 2.5l-.94 2.06-2.06.94zm10 10l.94 2.06.94-2.06 2.06-.94-2.06-.94-.94-2.06-.94 2.06-2.06.94z\"/><path d=\"M17.41 7.96l-1.37-1.37c-.4-.4-.92-.59-1.43-.59-.52 0-1.04.2-1.43.59L10.3 9.45l-7.72 7.72c-.78.78-.78 2.05 0 2.83L4 21.41c.39.39.9.59 1.41.59.51 0 1.02-.2 1.41-.59l7.78-7.78 2.81-2.81c.8-.78.8-2.07 0-2.86zM5.41 20L4 18.59l7.72-7.72 1.47 1.35L5.41 20z\"/>\n",
              "  </svg>\n",
              "      </button>\n",
              "      \n",
              "  <style>\n",
              "    .colab-df-container {\n",
              "      display:flex;\n",
              "      flex-wrap:wrap;\n",
              "      gap: 12px;\n",
              "    }\n",
              "\n",
              "    .colab-df-convert {\n",
              "      background-color: #E8F0FE;\n",
              "      border: none;\n",
              "      border-radius: 50%;\n",
              "      cursor: pointer;\n",
              "      display: none;\n",
              "      fill: #1967D2;\n",
              "      height: 32px;\n",
              "      padding: 0 0 0 0;\n",
              "      width: 32px;\n",
              "    }\n",
              "\n",
              "    .colab-df-convert:hover {\n",
              "      background-color: #E2EBFA;\n",
              "      box-shadow: 0px 1px 2px rgba(60, 64, 67, 0.3), 0px 1px 3px 1px rgba(60, 64, 67, 0.15);\n",
              "      fill: #174EA6;\n",
              "    }\n",
              "\n",
              "    [theme=dark] .colab-df-convert {\n",
              "      background-color: #3B4455;\n",
              "      fill: #D2E3FC;\n",
              "    }\n",
              "\n",
              "    [theme=dark] .colab-df-convert:hover {\n",
              "      background-color: #434B5C;\n",
              "      box-shadow: 0px 1px 3px 1px rgba(0, 0, 0, 0.15);\n",
              "      filter: drop-shadow(0px 1px 2px rgba(0, 0, 0, 0.3));\n",
              "      fill: #FFFFFF;\n",
              "    }\n",
              "  </style>\n",
              "\n",
              "      <script>\n",
              "        const buttonEl =\n",
              "          document.querySelector('#df-f0093c08-0e61-4fce-95aa-6923e0747c3f button.colab-df-convert');\n",
              "        buttonEl.style.display =\n",
              "          google.colab.kernel.accessAllowed ? 'block' : 'none';\n",
              "\n",
              "        async function convertToInteractive(key) {\n",
              "          const element = document.querySelector('#df-f0093c08-0e61-4fce-95aa-6923e0747c3f');\n",
              "          const dataTable =\n",
              "            await google.colab.kernel.invokeFunction('convertToInteractive',\n",
              "                                                     [key], {});\n",
              "          if (!dataTable) return;\n",
              "\n",
              "          const docLinkHtml = 'Like what you see? Visit the ' +\n",
              "            '<a target=\"_blank\" href=https://colab.research.google.com/notebooks/data_table.ipynb>data table notebook</a>'\n",
              "            + ' to learn more about interactive tables.';\n",
              "          element.innerHTML = '';\n",
              "          dataTable['output_type'] = 'display_data';\n",
              "          await google.colab.output.renderOutput(dataTable, element);\n",
              "          const docLink = document.createElement('div');\n",
              "          docLink.innerHTML = docLinkHtml;\n",
              "          element.appendChild(docLink);\n",
              "        }\n",
              "      </script>\n",
              "    </div>\n",
              "  </div>\n",
              "  "
            ]
          },
          "metadata": {},
          "execution_count": 48
        }
      ],
      "source": [
        "z_score_x"
      ],
      "id": "tMhQmBnC2oWm"
    },
    {
      "cell_type": "code",
      "execution_count": null,
      "metadata": {
        "id": "pkeBJhBn2oWm"
      },
      "outputs": [],
      "source": [],
      "id": "pkeBJhBn2oWm"
    },
    {
      "cell_type": "markdown",
      "metadata": {
        "id": "2rorsJdb2oWn"
      },
      "source": [
        "### Split the data into Train and Test data as we do in any typical machine learning algorithm\n"
      ],
      "id": "2rorsJdb2oWn"
    },
    {
      "cell_type": "code",
      "execution_count": null,
      "metadata": {
        "id": "dcRDoBkb2oWn"
      },
      "outputs": [],
      "source": [
        "from sklearn import model_selection\n",
        "\n",
        "X_train, X_test, y_train, y_test = model_selection.train_test_split(z_score_x,y,test_size=.3)"
      ],
      "id": "dcRDoBkb2oWn"
    },
    {
      "cell_type": "markdown",
      "source": [],
      "metadata": {
        "id": "d_7-8Y0l_KPx"
      },
      "id": "d_7-8Y0l_KPx"
    },
    {
      "cell_type": "markdown",
      "metadata": {
        "id": "ix6OFew42oWn"
      },
      "source": [
        "### Develop a classification algorithm to predict the Category, using K-NN machine learning algorithm."
      ],
      "id": "ix6OFew42oWn"
    },
    {
      "cell_type": "markdown",
      "metadata": {
        "id": "4VlTx3Qi2oWn"
      },
      "source": [
        "## K nearest neighbor (K-NN)"
      ],
      "id": "4VlTx3Qi2oWn"
    },
    {
      "cell_type": "markdown",
      "metadata": {
        "id": "ZxU_mPtK2oWn"
      },
      "source": [
        "#### Import library"
      ],
      "id": "ZxU_mPtK2oWn"
    },
    {
      "cell_type": "code",
      "execution_count": null,
      "metadata": {
        "id": "SeaN1Ml82oWn"
      },
      "outputs": [],
      "source": [
        "from sklearn.neighbors import KNeighborsClassifier"
      ],
      "id": "SeaN1Ml82oWn"
    },
    {
      "cell_type": "markdown",
      "metadata": {
        "id": "u4WHuMq72oWn"
      },
      "source": [
        "### Train the K-NN model\n",
        "\n",
        "Lets start the algorithm with k=4 for now:"
      ],
      "id": "u4WHuMq72oWn"
    },
    {
      "cell_type": "code",
      "execution_count": null,
      "metadata": {
        "id": "UcczMr9O2oWo"
      },
      "outputs": [],
      "source": [
        " k = 4\n",
        " neigh = KNeighborsClassifier(k).fit(X_train,y_train)"
      ],
      "id": "UcczMr9O2oWo"
    },
    {
      "cell_type": "markdown",
      "metadata": {
        "id": "2wBUQfbF2oWo"
      },
      "source": [
        "### Predict the category of the test data using the trained K-NN modeel\n"
      ],
      "id": "2wBUQfbF2oWo"
    },
    {
      "cell_type": "code",
      "execution_count": null,
      "metadata": {
        "id": "VniRxoEH2oWo",
        "colab": {
          "base_uri": "https://localhost:8080/"
        },
        "outputId": "49a3f8af-629b-4748-fbb0-8ce4ed31ef0b"
      },
      "outputs": [
        {
          "output_type": "execute_result",
          "data": {
            "text/plain": [
              "array(['0=Blood Donor', '0=Blood Donor', '0=Blood Donor', '0=Blood Donor',\n",
              "       '0=Blood Donor', '0=Blood Donor', '0=Blood Donor', '0=Blood Donor',\n",
              "       '0=Blood Donor', '0=Blood Donor', '0=Blood Donor', '0=Blood Donor',\n",
              "       '0=Blood Donor', '0=Blood Donor', '0=Blood Donor', '3=Cirrhosis',\n",
              "       '0=Blood Donor', '0=Blood Donor', '0=Blood Donor', '0=Blood Donor',\n",
              "       '0=Blood Donor', '0=Blood Donor', '0=Blood Donor', '0=Blood Donor',\n",
              "       '0=Blood Donor', '0=Blood Donor', '0=Blood Donor', '0=Blood Donor',\n",
              "       '0=Blood Donor', '0=Blood Donor', '0=Blood Donor', '0=Blood Donor',\n",
              "       '0=Blood Donor', '0=Blood Donor', '0=Blood Donor', '3=Cirrhosis',\n",
              "       '0=Blood Donor', '0=Blood Donor', '0=Blood Donor', '0=Blood Donor',\n",
              "       '0=Blood Donor', '0=Blood Donor', '0=Blood Donor', '3=Cirrhosis',\n",
              "       '0=Blood Donor', '0=Blood Donor', '0=Blood Donor', '0=Blood Donor',\n",
              "       '0=Blood Donor', '0=Blood Donor', '0=Blood Donor', '0=Blood Donor',\n",
              "       '0=Blood Donor', '0=Blood Donor', '0=Blood Donor', '0=Blood Donor',\n",
              "       '0=Blood Donor', '0=Blood Donor', '0=Blood Donor', '0=Blood Donor',\n",
              "       '0=Blood Donor', '0=Blood Donor', '0=Blood Donor', '0=Blood Donor',\n",
              "       '0=Blood Donor', '0=Blood Donor', '0=Blood Donor', '0=Blood Donor',\n",
              "       '0=Blood Donor', '0=Blood Donor', '0=Blood Donor', '0=Blood Donor',\n",
              "       '0=Blood Donor', '0=Blood Donor', '0=Blood Donor', '0=Blood Donor',\n",
              "       '0=Blood Donor', '0=Blood Donor', '0=Blood Donor', '0=Blood Donor',\n",
              "       '3=Cirrhosis', '0=Blood Donor', '1=Hepatitis', '0=Blood Donor',\n",
              "       '0=Blood Donor', '0=Blood Donor', '0=Blood Donor', '0=Blood Donor',\n",
              "       '0=Blood Donor', '0=Blood Donor', '0=Blood Donor', '0=Blood Donor',\n",
              "       '0=Blood Donor', '0=Blood Donor', '0=Blood Donor', '0=Blood Donor',\n",
              "       '0=Blood Donor', '0=Blood Donor', '0=Blood Donor', '0=Blood Donor',\n",
              "       '0=Blood Donor', '0=Blood Donor', '0=Blood Donor', '0=Blood Donor',\n",
              "       '0=Blood Donor', '0=Blood Donor', '0=Blood Donor', '0=Blood Donor',\n",
              "       '0=Blood Donor', '0=Blood Donor', '0=Blood Donor', '0=Blood Donor',\n",
              "       '0=Blood Donor', '0=Blood Donor', '0=Blood Donor', '2=Fibrosis',\n",
              "       '0=Blood Donor', '0=Blood Donor', '0=Blood Donor', '0=Blood Donor',\n",
              "       '0=Blood Donor', '0=Blood Donor', '0=Blood Donor', '0=Blood Donor',\n",
              "       '0=Blood Donor', '3=Cirrhosis', '0=Blood Donor', '0=Blood Donor',\n",
              "       '0=Blood Donor', '0=Blood Donor', '0=Blood Donor', '0=Blood Donor',\n",
              "       '0=Blood Donor', '0=Blood Donor', '0=Blood Donor', '0=Blood Donor',\n",
              "       '0=Blood Donor', '0=Blood Donor', '0=Blood Donor', '0=Blood Donor',\n",
              "       '0=Blood Donor', '0=Blood Donor', '0=Blood Donor', '0=Blood Donor',\n",
              "       '0=Blood Donor', '0=Blood Donor', '0=Blood Donor', '0=Blood Donor',\n",
              "       '0=Blood Donor', '0=Blood Donor', '0=Blood Donor', '0=Blood Donor',\n",
              "       '0=Blood Donor', '0=Blood Donor', '0=Blood Donor', '0=Blood Donor',\n",
              "       '0=Blood Donor', '0=Blood Donor', '0=Blood Donor', '0=Blood Donor',\n",
              "       '0=Blood Donor', '0=Blood Donor', '0=Blood Donor', '0=Blood Donor',\n",
              "       '0=Blood Donor', '0=Blood Donor', '0=Blood Donor', '0=Blood Donor',\n",
              "       '3=Cirrhosis', '0=Blood Donor', '0=Blood Donor', '0=Blood Donor',\n",
              "       '0=Blood Donor', '0=Blood Donor', '0=Blood Donor', '0=Blood Donor',\n",
              "       '0=Blood Donor'], dtype=object)"
            ]
          },
          "metadata": {},
          "execution_count": 52
        }
      ],
      "source": [
        "y_pred = neigh.predict(X_test)\n",
        "y_pred"
      ],
      "id": "VniRxoEH2oWo"
    },
    {
      "cell_type": "markdown",
      "metadata": {
        "id": "ZPOztcXE2oWo"
      },
      "source": [
        "### Evaluate the accuracy of the K-NN model over the test data.\n"
      ],
      "id": "ZPOztcXE2oWo"
    },
    {
      "cell_type": "code",
      "execution_count": null,
      "metadata": {
        "id": "fOUqLSqR2oWo",
        "colab": {
          "base_uri": "https://localhost:8080/"
        },
        "outputId": "ee16333f-3170-48c5-f3dc-4a88aaee341b"
      },
      "outputs": [
        {
          "output_type": "stream",
          "name": "stdout",
          "text": [
            "0.8870056497175142\n"
          ]
        }
      ],
      "source": [
        "from sklearn.metrics import accuracy_score\n",
        "print(accuracy_score(y_pred,y_test))"
      ],
      "id": "fOUqLSqR2oWo"
    },
    {
      "cell_type": "markdown",
      "metadata": {
        "id": "_vGPVZWB2oWo"
      },
      "source": [
        "### Train the K-NN model with the various values of K. You can run the following loop to try different K and the accuracy associated with each K.\n"
      ],
      "id": "_vGPVZWB2oWo"
    },
    {
      "cell_type": "code",
      "execution_count": null,
      "metadata": {
        "id": "qu1Vj_iT2oWo",
        "colab": {
          "base_uri": "https://localhost:8080/"
        },
        "outputId": "dab1238f-c263-46cf-88f0-f94901a768ef"
      },
      "outputs": [
        {
          "output_type": "execute_result",
          "data": {
            "text/plain": [
              "array([0.88135593, 0.88135593, 0.88135593, 0.88700565, 0.88135593,\n",
              "       0.88135593, 0.8700565 , 0.8700565 , 0.87570621, 0.88700565])"
            ]
          },
          "metadata": {},
          "execution_count": 54
        }
      ],
      "source": [
        "Ks = 10\n",
        "acc = np.zeros(Ks)\n",
        "for n in range(1,Ks+1):\n",
        "    neigh = KNeighborsClassifier(n_neighbors = n).fit(X_train,y_train)\n",
        "    y_pred = neigh.predict(X_test)\n",
        "    acc[n-1] = accuracy_score(y_pred, y_test)\n",
        "\n",
        "acc"
      ],
      "id": "qu1Vj_iT2oWo"
    },
    {
      "cell_type": "code",
      "source": [],
      "metadata": {
        "id": "PGI63QRACJ8G"
      },
      "id": "PGI63QRACJ8G",
      "execution_count": null,
      "outputs": []
    },
    {
      "cell_type": "markdown",
      "metadata": {
        "id": "bwPDeDmV2oWo"
      },
      "source": [
        "#### Plot  model accuracy  for Different number of Neighbors"
      ],
      "id": "bwPDeDmV2oWo"
    },
    {
      "cell_type": "code",
      "execution_count": null,
      "metadata": {
        "id": "1kpEL4FX2oWp",
        "colab": {
          "base_uri": "https://localhost:8080/",
          "height": 297
        },
        "outputId": "937c33c0-ecf6-4f0a-a8f0-56eddcf24bdb"
      },
      "outputs": [
        {
          "output_type": "display_data",
          "data": {
            "text/plain": [
              "<Figure size 432x288 with 1 Axes>"
            ],
            "image/png": "[encoded data removed]"
          },
          "metadata": {
            "needs_background": "light"
          }
        }
      ],
      "source": [
        "plt.plot(range(1,Ks+1),acc,'g')\n",
        "plt.ylabel('Accuracy')\n",
        "plt.ylabel('Number of Neighbor(K)')\n",
        "plt.tight_layout()\n",
        "plt.show()\n"
      ],
      "id": "1kpEL4FX2oWp"
    },
    {
      "cell_type": "markdown",
      "metadata": {
        "id": "OGphQrJC2oWp"
      },
      "source": [
        "### Based on the above performance evaluation, which value of K would you choose now?"
      ],
      "id": "OGphQrJC2oWp"
    },
    {
      "cell_type": "markdown",
      "source": [
        "Based on above performence I chose K = 4"
      ],
      "metadata": {
        "id": "QXs-b5lWEzz1"
      },
      "id": "QXs-b5lWEzz1"
    },
    {
      "cell_type": "code",
      "source": [],
      "metadata": {
        "id": "BbrcsFX2Ex4L"
      },
      "id": "BbrcsFX2Ex4L",
      "execution_count": null,
      "outputs": []
    },
    {
      "cell_type": "markdown",
      "metadata": {
        "id": "NSqtqLRy2oWp"
      },
      "source": [
        "### Train a Decision Tree model for the same data and compare the performance between K-NN and Decision Tree."
      ],
      "id": "NSqtqLRy2oWp"
    },
    {
      "cell_type": "markdown",
      "metadata": {
        "id": "jMQugC-S2oWp"
      },
      "source": [
        "## Setting up the Decision Tree\n"
      ],
      "id": "jMQugC-S2oWp"
    },
    {
      "cell_type": "code",
      "execution_count": null,
      "metadata": {
        "id": "e_1tb9wH2oWp"
      },
      "outputs": [],
      "source": [
        "from sklearn.tree import DecisionTreeClassifier"
      ],
      "id": "e_1tb9wH2oWp"
    },
    {
      "cell_type": "code",
      "execution_count": null,
      "metadata": {
        "id": "d3dk3Tau2oWp",
        "colab": {
          "base_uri": "https://localhost:8080/"
        },
        "outputId": "e065dadc-af24-4975-b930-3096d2d6d5f4"
      },
      "outputs": [
        {
          "output_type": "execute_result",
          "data": {
            "text/plain": [
              "DecisionTreeClassifier(criterion='entropy', max_depth=4)"
            ]
          },
          "metadata": {},
          "execution_count": 65
        }
      ],
      "source": [
        "HepTree = DecisionTreeClassifier(criterion=\"entropy\", max_depth=4)\n",
        "HepTree.fit(X_train,y_train)\n"
      ],
      "id": "d3dk3Tau2oWp"
    },
    {
      "cell_type": "code",
      "execution_count": null,
      "metadata": {
        "id": "H-ZpUKVJ2oWp"
      },
      "outputs": [],
      "source": [],
      "id": "H-ZpUKVJ2oWp"
    },
    {
      "cell_type": "markdown",
      "metadata": {
        "id": "Vy2dFFtK2oWp"
      },
      "source": [
        "## Prediction\n",
        "Let's make some <b>predictions</b> on the testing dataset and store it into a variable called <b>predTree</b>."
      ],
      "id": "Vy2dFFtK2oWp"
    },
    {
      "cell_type": "code",
      "execution_count": null,
      "metadata": {
        "id": "mZDkKHSY2oWq"
      },
      "outputs": [],
      "source": [
        "treepred = HepTree.predict(X_test)"
      ],
      "id": "mZDkKHSY2oWq"
    },
    {
      "cell_type": "markdown",
      "metadata": {
        "id": "O8DXBZO72oWq"
      },
      "source": [
        "### Evaluate the accuracy of the Decision Tree model over the test data.\n"
      ],
      "id": "O8DXBZO72oWq"
    },
    {
      "cell_type": "code",
      "execution_count": null,
      "metadata": {
        "id": "1T2stW4m2oWq",
        "colab": {
          "base_uri": "https://localhost:8080/"
        },
        "outputId": "919701c6-fc19-4304-9952-95780fc85078"
      },
      "outputs": [
        {
          "output_type": "stream",
          "name": "stdout",
          "text": [
            "0.8870056497175142\n"
          ]
        }
      ],
      "source": [
        "from sklearn.metrics import accuracy_score\n",
        "print(accuracy_score(y_pred, y_test))"
      ],
      "id": "1T2stW4m2oWq"
    },
    {
      "cell_type": "code",
      "execution_count": null,
      "metadata": {
        "id": "_BdVJk302oWq"
      },
      "outputs": [],
      "source": [],
      "id": "_BdVJk302oWq"
    }
  ],
  "metadata": {
    "kernelspec": {
      "display_name": "Python 3",
      "language": "python",
      "name": "python3"
    },
    "language_info": {
      "codemirror_mode": {
        "name": "ipython",
        "version": 3
      },
      "file_extension": ".py",
      "mimetype": "text/x-python",
      "name": "python",
      "nbconvert_exporter": "python",
      "pygments_lexer": "ipython3",
      "version": "3.8.5"
    },
    "colab": {
      "provenance": [],
      "include_colab_link": true
    }
  },
  "nbformat": 4,
  "nbformat_minor": 5
}